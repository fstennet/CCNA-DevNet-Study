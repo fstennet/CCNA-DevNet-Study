{
  "nbformat": 4,
  "nbformat_minor": 0,
  "metadata": {
    "colab": {
      "name": "1.1 Compare data formats (XML, JSON and YAML).ipynb",
      "provenance": [],
      "collapsed_sections": [],
      "authorship_tag": "ABX9TyOHMRb8+wROUMtEi8mEtjR3",
      "include_colab_link": true
    },
    "kernelspec": {
      "name": "python3",
      "display_name": "Python 3"
    },
    "language_info": {
      "name": "python"
    },
    "accelerator": "GPU"
  },
  "cells": [
    {
      "cell_type": "markdown",
      "metadata": {
        "id": "view-in-github",
        "colab_type": "text"
      },
      "source": [
        "<a href=\"https://colab.research.google.com/github/fstennet/DevNet_Associate_200-901/blob/notebooks%2F1.1_compare_data_formats/1.1%20Compare%20data%20formats%20(XML%2C_JSON_and_YAML).ipynb\" target=\"_parent\"><img src=\"https://colab.research.google.com/assets/colab-badge.svg\" alt=\"Open In Colab\"/></a>"
      ]
    },
    {
      "cell_type": "markdown",
      "metadata": {
        "id": "8FpDYJ5CAnpY"
      },
      "source": [
        "# XML\n",
        "Taken from: https://www.w3.org/TR/xml/\n",
        "\n",
        "XML was developed by an XML Working Group (originally known as the SGML Editorial Review Board) formed under the auspices of the World Wide Web Consortium (W3C) in 1996. It was chaired by Jon Bosak of Sun Microsystems with the active participation of an XML Special Interest Group (previously known as the SGML Working Group) also organized by the W3C. The membership of the XML Working Group is given in an appendix. Dan Connolly served as the Working Group's contact with the W3C.\n",
        "\n",
        "The design goals for XML are:\n",
        "- XML shall be straightforwardly usable over the Internet.\n",
        "- XML shall support a wide variety of applications.\n",
        "- XML shall be compatible with SGML.\n",
        "- It shall be easy to write programs which process XML documents.\n",
        "- The number of optional features in XML is to be kept to the absolute minimum, ideally zero.\n",
        "- XML documents should be human-legible and reasonably clear.\n",
        "- The XML design should be prepared quickly.\n",
        "- The design of XML shall be formal and concise.\n",
        "- XML documents shall be easy to create.\n",
        "- Terseness in XML markup is of minimal importance.\n",
        "\n",
        "### Example XML document:\n",
        "```\n",
        "<?xml version=\"1.0\"?>\n",
        "<!-- This document describes Christopher Nolan's movies -->\n",
        "<movies>\n",
        "  <movie genre=\"Sci-Fi\">\n",
        "    <name>Tenet</name>\n",
        "    <year>2020</year>\n",
        "    <director>Christopher Nolan</director>\n",
        "    <url>\n",
        "        <![CDATA[https://www.imdb.com/title/tt6723592/?ref_=fn_al_tt_1]]>\n",
        "    </url>\n",
        "    <cast>\n",
        "      <actor>John David Washington</actor>\n",
        "      <actor>Elizabeth Debicki</actor>\n",
        "    </cast>\n",
        "  </movie>\n",
        "  <movie genre=\"Sci-Fi\">\n",
        "    <name>Interstellar</name>\n",
        "    <year>2014</year>\n",
        "    <director>Christopher Nolan</director>\n",
        "    <url>\n",
        "        <![CDATA[https://www.imdb.com/title/tt0816692/?ref_=nv_sr_srsg_0]]>\n",
        "    </url>\n",
        "    <cast>\n",
        "      <actor>Matthew McConaughey</actor>\n",
        "      <actor>Anne Hathaway</actor>\n",
        "    </cast>\n",
        "  </movie>\n",
        "</movies>\n",
        "```\n",
        "\n",
        "XML documents should begin with an XML declaration which specifies the version of XML being used.\n",
        "\n",
        "```\n",
        "<?xml version=\"1.0\"?>\n",
        "```\n",
        "\n",
        "Each XML document contains one or more elements, the boundaries of which are either delimited by start-tags and end-tags, or, for empty elements, by an empty-element tag.\n",
        "\n",
        "```\n",
        "<year></year>\n",
        "```\n",
        "\n",
        " The text between the start-tag and end-tag is called the element's content.\n",
        "\n",
        " ```\n",
        "<year>2014</year>\n",
        " ```\n",
        "\n",
        " The Name-AttValue pairs are referred to as the attribute specifications of the element.\n",
        "\n",
        " ```\n",
        " <movie genre=\"Sci-Fi\">\n",
        " </movie>\n",
        " ```\n",
        "\n",
        "  CDATA sections may occur anywhere character data may occur; they are used to escape blocks of text containing characters which would otherwise be recognized as markup. CDATA sections begin with the string \" <![CDATA[ \" and end with the string \" ]]> \"\n",
        "\n",
        "```\n",
        "<url>\n",
        "  <![CDATA[https://www.imdb.com/title/tt0816692/?ref_=nv_sr_srsg_0]]>\n",
        "</url>\n",
        "```"
      ]
    }
  ]
}